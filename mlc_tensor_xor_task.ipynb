{
  "nbformat": 4,
  "nbformat_minor": 0,
  "metadata": {
    "colab": {
      "provenance": []
    },
    "kernelspec": {
      "name": "python3",
      "display_name": "Python 3"
    },
    "language_info": {
      "name": "python"
    }
  },
  "cells": [
    {
      "cell_type": "code",
      "source": [
        "class Matrix:\n",
        "\n",
        "    def __init__(self, m_arr):\n",
        "        self.shape = (len(m_arr), len(m_arr[0]))\n",
        "        self.matrix = m_arr\n",
        "\n",
        "    def __str__(self):\n",
        "        str_matrix = '[\\n'\n",
        "        for row in self.matrix:\n",
        "            str_matrix += ' ' + str(row) + '\\n'\n",
        "        return str_matrix + ']'\n",
        "\n",
        "    def dot(self, other):\n",
        "\n",
        "        assert self.shape[1] == other.shape[0], f'Can\\'t multiply matrices with shape {self.shape} and {other.shape}'\n",
        "\n",
        "        matrix = [[0 for _ in range(other.shape[1])] for _ in range(self.shape[0])]\n",
        "\n",
        "        for i in range(self.shape[0]):\n",
        "            for j in range(other.shape[1]):\n",
        "                matrix[i][j] = sum(self.matrix[i][k] * other.matrix[k][j] for k in range(other.shape[0]))\n",
        "\n",
        "        return Matrix(matrix)\n",
        "\n",
        "    def map(self, func):\n",
        "        return Matrix([[func(val) for val in row] for row in self.matrix])\n",
        "\n",
        "    def add(self, other):\n",
        "        return Matrix([[self.matrix[j][i] + other.matrix[j][i] for i in range(self.shape[1])] for j in range(self.shape[0])])\n",
        "\n",
        "    def add_vect(self, other):\n",
        "        bc_vector = Matrix([other.matrix[0] for _ in range(self.shape[0])])\n",
        "        return self.add(bc_vector)"
      ],
      "metadata": {
        "id": "Us9jANmDkDEp"
      },
      "execution_count": null,
      "outputs": []
    },
    {
      "cell_type": "markdown",
      "source": [
        "Чтобы наполнить конкретикой понятие сети прямого распространения, рассмотрим\n",
        "полный пример сети, решающей очень простую задачу: обучение функции XOR.\n",
        "Функция XOR (исключающее ИЛИ) применяется к двум двоичным значениям,\n",
        "$x_1$ и $x_2$. Если ровно одно из них равно 1, то XOR возвращает 1, во всех остальных\n",
        "случаях – 0. Функция XOR является целевой функцией $y = f^{*}$\n",
        "(x), которую мы хотим\n",
        "обучить. Наша модель описывает функцию $y = f(x; θ)$, а алгоритм обучения должен\n",
        "подобрать параметры θ, так чтобы $f$ была максимально похожа на $f^{*}$.\n",
        "\n",
        "В этом простом примере нас не интересует статистическое обобщение. Мы хотим,\n",
        "чтобы сеть правильно работала на четырех точках $𝕏 = \\{[0, 0]^⏉, [0, 1]^⏉, [1, 0]^⏉, [1, 1]^⏉\\}$,\n",
        "и будем обучать ее на всех этих точках. Единственная проблема – аппроксимировать\n",
        "обучать набор. Эту проблему можно рассматривать как задачу регрессии и использовать среднеквадратическую функцию потерь. Мы выбрали такую функцию потерь, чтобы максимально упростить математические выкладки. На практике среднеквадратическая\n",
        "ошибка (СКО) редко подходит для моделирования двоичных данных.\n",
        "\n",
        "Вычисленная на всем обучающем наборе среднеквадратическая функция потерь\n",
        "имеет вид:\n",
        "\n",
        "$J(\\theta) = \\frac{1}{4} \\displaystyle\\sum_{x\\in𝕏} (f^{*}(x) - f(x;\\theta))^2$\n",
        "\n",
        "Теперь нужно выбрать форму модели f(x; θ). Допустим, что выбирается линейная\n",
        "модель, в которой θ состоит из параметров w и b:\n",
        "\n",
        "$f(x; w, b) = x^⏉w + b$.\n",
        "\n",
        "Мы можем минимизировать $J(θ)$ относительно $w$ и $b$ в замкнутой форме с помощью нормальных уравнений.\n",
        "Решив нормальные уравнения, получаем $w = 0$, $b = \\frac12$. Линейная модель просто\n",
        "порождает постоянное выходное значение 0.5. Почему так? По рис. 6.1 видно, что линейная модель не способна представить функцию XOR. Чтобы решить эту проблему,\n",
        "мы можем взять другое пространство признаков, в котором линейной модели будет\n",
        "уже достаточно для представления решения.\n",
        "Конкретно, рассмотрим простую сеть прямого распространения с одним скрытым\n",
        "слоем, содержащим два скрытых блока. Она показана на рис. 6.2. В этой модели имеется вектор скрытых блоков $h$, вычисляемых функцией $f^{(1)}(x; W, c)$. Значения скрытых\n",
        "блоков служат входами для второго слоя, который одновременно является выходным\n",
        "слоем сети. Выходной слой – это просто модель линейной регрессии, но применяется\n",
        "она к h, а не к x. Теперь сеть содержит две функции, $h = f^{(1)}(x; W, c)$ и $y = f^{(2)}(h; w, b)$,\n",
        "а полная модель образована их композицией $f(x; W, c, w, b) = f^{(2)}(f^{(1)}(x))$.\n",
        "Что должна вычислять функция $f^{(1)}$? До сих пор линейные модели служили нам верой и правдой, поэтому велико искушение сделать $f^{(1)}$ линейной. К сожалению, если бы $f^{(1)}$ была линейной, то и вся сеть прямого распространения оказалась бы линейной функцией входа. Забудем ненадолго про свободные члены и предположим, что\n",
        "$f^{(1)}(x) = W^⏉x$, $f^{(2)}(h) = h^⏉w$. Тогда $f(x) = w^⏉W^⏉x$. Эту функцию можно представить\n",
        "в виде $f(x) = x^⏉w′$, где $w′ = Ww$.\n",
        "Очевидно, что для описания признаков нужна нелинейная функция. В большинстве\n",
        "нейронных сетей используют композицию аффинного преобразования с обученными\n",
        "параметрами и фиксированной нелинейной функции активации. Воспользуемся этой\n",
        "стратегией и мы, положив $h = g(W^⏉x + c)$, где $W$ – веса линейного преобразования,\n",
        "а $c$ – смещения. Ранее в модели линейной регрессии мы использовали веса и скалярный параметр смещения для описания аффинного преобразования входного вектора\n",
        "в выходной скаляр. Теперь же мы описываем аффинное преобразование вектора x\n",
        "в вектор h, поэтому смещение должно быть вектором. В качестве функции активации\n",
        "обычно берут функцию, применяемую к каждому элементу: $h_i = g(x^⏉W_{:,i} + c_i\n",
        ")$.\n",
        "\n",
        "В современных нейронных сетях по умолчанию рекомендуют использовать блок линейной ректификации (rectified linear unit – ReLU) (Jarrett et al., 2009; Nair and Hinton,\n",
        "2010; Glorot et al., 2011a), определяемый функцией активации $g(z) = max\\{0, z\\}$, которая изображена на рис. 6.3."
      ],
      "metadata": {
        "id": "3zEDtI0geMqr"
      }
    },
    {
      "cell_type": "markdown",
      "source": [
        "![image.png](data:image/png;base64,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)"
      ],
      "metadata": {
        "id": "rjY7xlvWilbD"
      }
    },
    {
      "cell_type": "markdown",
      "source": [
        "Рис. 6.1 Решение задачи о функции XOR путем обучения представления. Жирными цифрами обозначены значения, которые обученная функция\n",
        "должна вывести в каждой точке. (Слева) Линейная модель, применяемая\n",
        "непосредственно к входным данным, неспособна реализовать функцию\n",
        "XOR. При $x_1 = 0$ выход модели должен возрастать с ростом $x_2$. При $x_1 = 1$ выход модели должен убывать с ростом $x_2$. В линейной модели должен быть\n",
        "фиксированный коэффициент между $w_2$ и $x_2$. Поэтому линейная модель не\n",
        "может использовать значение $x_1$ для изменения коэффициента при $x_2$ и,\n",
        "стало быть, не в состоянии решить задачу. (Справа) В преобразованном\n",
        "пространстве признаков, выделяемых нейронной сетью, линейная модель\n",
        "может решить задачу. В нашем случае обе точки, которые должны выводить\n",
        "1, схлопнуты в одну точку пространства признаков. Иными словами, нелинейное преобразование отображает точки $x = [1, 0]^⏉$ и $x = [0, 1]^⏉$ в одну точку\n",
        "пространства признаков $h = [1, 0]^⏉$. Теперь линейная модель может описать\n",
        "функцию, возрастающую относительно $h_1$ и убывающую относительно $h_2$.\n",
        "В этом примере причиной для обучения в пространстве признаков было\n",
        "всего лишь желание увеличить емкость модели, так чтобы она могла аппроксимировать обучающий набор. В реальных приложениях обученное таким образом представление способствует лучшей обобщаемости модели."
      ],
      "metadata": {
        "id": "raxaaHwIirtE"
      }
    },
    {
      "cell_type": "markdown",
      "source": [
        "Теперь можно определить всю сеть целиком:\n",
        "$f(x; W, c, w, b) = w^⏉ max\\{0, W⏉x + c\\} + b.$\n",
        "Теперь мы можем описать решение задачи о функции XOR. Обозначим\n"
      ],
      "metadata": {
        "id": "BArV1pNajyq2"
      }
    },
    {
      "cell_type": "code",
      "source": [
        "W = Matrix([[1, 1],\n",
        "            [1, 1]])\n",
        "\n",
        "c = Matrix([[0, -1]])\n",
        "\n",
        "w = Matrix([[1],\n",
        "            [-2]])"
      ],
      "metadata": {
        "id": "iotLCjZFkhfC"
      },
      "execution_count": null,
      "outputs": []
    },
    {
      "cell_type": "markdown",
      "source": [
        "и положим $b = 0$"
      ],
      "metadata": {
        "id": "7buzQ41RnR1f"
      }
    },
    {
      "cell_type": "markdown",
      "source": [
        "![image.png](data:image/png;base64,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)"
      ],
      "metadata": {
        "id": "iCZWrFWYkt5x"
      }
    },
    {
      "cell_type": "markdown",
      "source": [
        "Рис. 6.2 Пример сети обратного распространения, нарисованной двумя способами. Это та сеть, которой мы воспользовались для решения задачи о функции XOR. В сети имеется скрытый слой с двумя блоками. (Слева)\n",
        "Здесь каждый блок представлен вершиной графа. Этот способ явный и однозначный, но когда сеть побольше, чем в этом примере, рисунок занимает\n",
        "слишком много места. (Справа) В этом случае вершина графа соответствует целому вектору, представляющему все активации в слое. Такой способ\n",
        "гораздо компактнее. Иногда ребра графа аннотируются именами параметров, описывающих связь между двумя слоями. Здесь мы указали, что матрица W описывает отображение $x$ в $h$, а вектор $w$ – отображение $h$ в $y$. Как\n",
        "правило, свободные члены для каждого слоя в таких метках опускаются."
      ],
      "metadata": {
        "id": "r4_jZJBrkvOP"
      }
    },
    {
      "cell_type": "code",
      "source": [
        "def relu(x):\n",
        "    return max(0, x)"
      ],
      "metadata": {
        "id": "xuPAFKodrHKG"
      },
      "execution_count": null,
      "outputs": []
    },
    {
      "cell_type": "code",
      "source": [
        "def xor_neural_network(X):\n",
        "\n",
        "    h = X.dot(W)\n",
        "    h = h.add_vect(c)\n",
        "    h = h.map(relu)\n",
        "    y = h.dot(w)\n",
        "    return y"
      ],
      "metadata": {
        "id": "PElphGTlldVj"
      },
      "execution_count": null,
      "outputs": []
    },
    {
      "cell_type": "markdown",
      "source": [
        "![image.png](data:image/png;base64,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)"
      ],
      "metadata": {
        "id": "4mAC42l3lFCN"
      }
    },
    {
      "cell_type": "markdown",
      "source": [
        "Рис. 6.3 Ректифицированная линейная функция активации. Эта функция по умолчанию рекомендуется для большинства нейронных сетей прямого распространения. Применение ее к выходу линейного преобразования дает нелинейное преобразование. Функция, впрочем, очень близка\n",
        "к линейной – она является кусочно-линейной с двумя линейными участками. Поскольку блоки линейной ректификации почти линейны, сохраняются\n",
        "многие свойства, благодаря которым линейные модели легко поддаются\n",
        "оптимизации градиентными методами. Сохраняются также свойства, обеспечивающие хорошую обобщаемость линейных моделей. Общий принцип\n",
        "информатики – строить сложные системы из минимальных компонентов.\n",
        "От памяти машины Тьюринга требуется только способность хранить нуль\n",
        "и единицу, а универсальный аппроксиматор можно построить из ректифицированных линейных функций"
      ],
      "metadata": {
        "id": "cQFGHe13lJ96"
      }
    },
    {
      "cell_type": "markdown",
      "source": [
        "Посмотрим по шагам, как модель обрабатывает входные данные. Обозначим X\n",
        "матрицу плана, содержащую все четыре точки в пространстве двоичных входов, по\n",
        "одному примеру в строке:"
      ],
      "metadata": {
        "id": "Dqext5dulsuU"
      }
    },
    {
      "cell_type": "code",
      "source": [
        "X = Matrix([[0, 0],\n",
        "            [0, 1],\n",
        "            [1, 0],\n",
        "            [1, 1]])"
      ],
      "metadata": {
        "id": "M3oJDQ7ImP74"
      },
      "execution_count": null,
      "outputs": []
    },
    {
      "cell_type": "markdown",
      "source": [
        "Первый шаг нейронной сети – умножение матрицы входов на матрицу весов первого слоя:"
      ],
      "metadata": {
        "id": "bfM4o5cImQw9"
      }
    },
    {
      "cell_type": "code",
      "source": [
        "h = X.dot(W)\n",
        "print(h)"
      ],
      "metadata": {
        "colab": {
          "base_uri": "https://localhost:8080/"
        },
        "id": "_UnMovd9lvRn",
        "outputId": "e17b358e-0984-4fe6-a75d-05f6613f3dae"
      },
      "execution_count": null,
      "outputs": [
        {
          "output_type": "stream",
          "name": "stdout",
          "text": [
            "[\n",
            " [0, 0]\n",
            " [1, 1]\n",
            " [1, 1]\n",
            " [2, 2]\n",
            "]\n"
          ]
        }
      ]
    },
    {
      "cell_type": "markdown",
      "source": [
        "Затем она прибавляет вектор смещений c, получая в результате"
      ],
      "metadata": {
        "id": "M7HN4vOmmWA5"
      }
    },
    {
      "cell_type": "code",
      "source": [
        "h = h.add_vect(c)\n",
        "print(h)"
      ],
      "metadata": {
        "colab": {
          "base_uri": "https://localhost:8080/"
        },
        "id": "g9MR1La3l8tI",
        "outputId": "3026decd-d679-4896-e6c2-e48cca8456dd"
      },
      "execution_count": null,
      "outputs": [
        {
          "output_type": "stream",
          "name": "stdout",
          "text": [
            "[\n",
            " [0, -1]\n",
            " [1, 0]\n",
            " [1, 0]\n",
            " [2, 1]\n",
            "]\n"
          ]
        }
      ]
    },
    {
      "cell_type": "markdown",
      "source": [
        "В этом пространстве все примеры расположены на прямой с угловым коэффициентом 1. При движении вдоль этой прямой выход вначале должен быть равен 0, затем\n",
        "поднимается до 1, потом снова падает до 0. Линейная модель такую функцию реализовать не может. Чтобы завершить вычисление $h$ для каждого примера, применим\n",
        "преобразование линейной ректификации:"
      ],
      "metadata": {
        "id": "GQPoDygymbnV"
      }
    },
    {
      "cell_type": "code",
      "source": [
        "h = h.map(relu)\n",
        "print(h)"
      ],
      "metadata": {
        "colab": {
          "base_uri": "https://localhost:8080/"
        },
        "id": "8JTle7LSme0Q",
        "outputId": "a72b5ef9-dfc8-42a2-cced-f08c97ba7c6c"
      },
      "execution_count": null,
      "outputs": [
        {
          "output_type": "stream",
          "name": "stdout",
          "text": [
            "[\n",
            " [0, 0]\n",
            " [1, 0]\n",
            " [1, 0]\n",
            " [2, 1]\n",
            "]\n"
          ]
        }
      ]
    },
    {
      "cell_type": "markdown",
      "source": [
        "Это преобразование изменило соотношение между примерами. Они больше не лежат на одной прямой. Как видно по рис. 6.1, теперь они расположены в пространстве,\n",
        "где линейная модель может решить задачу.\n",
        "В завершение умножаем на вектор весов $w$:"
      ],
      "metadata": {
        "id": "XIk_7jz0mk_j"
      }
    },
    {
      "cell_type": "code",
      "source": [
        "out = h.dot(w)\n",
        "print(out)"
      ],
      "metadata": {
        "colab": {
          "base_uri": "https://localhost:8080/"
        },
        "id": "WUJKr6pOmn5u",
        "outputId": "508abdb2-46d0-44f9-8a68-0eba078dc75c"
      },
      "execution_count": null,
      "outputs": [
        {
          "output_type": "stream",
          "name": "stdout",
          "text": [
            "[\n",
            " [0]\n",
            " [1]\n",
            " [1]\n",
            " [0]\n",
            "]\n"
          ]
        }
      ]
    },
    {
      "cell_type": "markdown",
      "source": [
        "Нейронная сеть получила правильный ответ для каждого входного примера.\n",
        "В этом примере мы просто задали решение, а затем показали, что его можно получить с нулевой ошибкой. В реальной ситуации количество параметров модели и обучающих примеров может исчисляться миллиардами, поэтому заранее угадать\n",
        "решение невозможно. Вместо этого применяется алгоритм градиентной оптимизации, который способен найти параметры с очень небольшой ошибкой. Описанное решение задачи о XOR соответствует глобальному минимуму функции потерь, поэтому\n",
        "метод градиентного спуска мог бы сойтись к нему. Существуют эквивалентные решения этой задачи, которые также могли бы быть найдены градиентным спуском. К какой точке сойдется градиентный спуск, зависит от начальных значений параметров.\n",
        "На практике градиентный спуск обычно находит не такие «чистые», целочисленные,\n",
        "с первого взгляда понятные решения, как описанное в этом разделе."
      ],
      "metadata": {
        "id": "j89myEPGmw-K"
      }
    },
    {
      "cell_type": "code",
      "source": [
        "print(xor_neural_network(X))"
      ],
      "metadata": {
        "colab": {
          "base_uri": "https://localhost:8080/"
        },
        "id": "FtNOeXJ9F4lY",
        "outputId": "48b75166-325e-4ba8-b833-0ded29a06fbc"
      },
      "execution_count": null,
      "outputs": [
        {
          "output_type": "stream",
          "name": "stdout",
          "text": [
            "[\n",
            " [0]\n",
            " [1]\n",
            " [1]\n",
            " [0]\n",
            "]\n"
          ]
        }
      ]
    },
    {
      "cell_type": "code",
      "source": [
        "from functools import partial\n",
        "\n",
        "# Создадим функцию, аналогичную f1 и f2 (линейный слой НС)\n",
        "def linear(x, W, b=None):\n",
        "    y = x.dot(W)\n",
        "    if b is not None: y = y.add_vect(b)\n",
        "    return y\n",
        "\n",
        "# Создадим линейные слои f1 и f2\n",
        "linear1 = partial(linear, W=W, b=c)\n",
        "linear2 = partial(linear, W=w)"
      ],
      "metadata": {
        "id": "aJa2_tC4oNX4"
      },
      "execution_count": null,
      "outputs": []
    },
    {
      "cell_type": "code",
      "source": [
        "def xor_neural_network2(X):\n",
        "\n",
        "    h = linear1(X).map(relu)\n",
        "    y = linear2(h)\n",
        "    return y"
      ],
      "metadata": {
        "id": "8kl3Z61tob1A"
      },
      "execution_count": null,
      "outputs": []
    },
    {
      "cell_type": "code",
      "source": [
        "print(xor_neural_network2(X))"
      ],
      "metadata": {
        "colab": {
          "base_uri": "https://localhost:8080/"
        },
        "id": "88bLJhw1ouGy",
        "outputId": "33ab520f-b4b9-4dae-b18b-f9e8670ffa87"
      },
      "execution_count": null,
      "outputs": [
        {
          "output_type": "stream",
          "name": "stdout",
          "text": [
            "[\n",
            " [0]\n",
            " [1]\n",
            " [1]\n",
            " [0]\n",
            "]\n"
          ]
        }
      ]
    }
  ]
}